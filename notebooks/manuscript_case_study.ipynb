{
 "cells": [
  {
   "cell_type": "markdown",
   "metadata": {},
   "source": [
    "# Plots for manuscript case study "
   ]
  },
  {
   "cell_type": "code",
   "execution_count": 38,
   "metadata": {},
   "outputs": [
    {
     "name": "stdout",
     "output_type": "stream",
     "text": [
      "The autoreload extension is already loaded. To reload it, use:\n",
      "  %reload_ext autoreload\n"
     ]
    }
   ],
   "source": [
    "%load_ext autoreload\n",
    "%autoreload 2"
   ]
  },
  {
   "cell_type": "code",
   "execution_count": 91,
   "metadata": {
    "tags": []
   },
   "outputs": [],
   "source": [
    "import os, sys\n",
    "sys.path.append(os.pardir)\n",
    "import requests\n",
    "import json\n",
    "\n",
    "import numpy as np\n",
    "import pandas as pd\n",
    "import matplotlib.pyplot as plt\n",
    "import matplotlib.gridspec as gridspec\n",
    "import matplotlib.ticker as mtick\n",
    "from arviz.stats.density_utils import _kde_linear\n",
    "\n",
    "from app.prediction.predict import impute, predict_mortality\n",
    "from app.Fixtures.constants import RANDOM_SEED\n",
    "from app.Fixtures.gams import (\n",
    "    study_export,\n",
    "    LACTATE_GAM,\n",
    "    ALBUMIN_GAM,\n",
    "    LACTATE_TRANSFORMER,\n",
    "    ALBUMIN_TRANSFORMER,\n",
    "    MORTALITY_GAM\n",
    ")"
   ]
  },
  {
   "cell_type": "markdown",
   "metadata": {},
   "source": [
    "## Get API predictions with and without imputation"
   ]
  },
  {
   "cell_type": "code",
   "execution_count": 40,
   "metadata": {},
   "outputs": [],
   "source": [
    "patient = {\n",
    "  \"Age\": 81,\n",
    "  \"ASA\": 1,\n",
    "  \"HR\": 82,\n",
    "  \"SBP\": 104,\n",
    "  \"WCC\": 9.1,\n",
    "  \"Na\": 135,\n",
    "  \"K\": 4.4,\n",
    "  \"Urea\": 8.7,\n",
    "  \"Creat\": 78,\n",
    "  \"GCS\": 15,\n",
    "  \"Resp\": 0,\n",
    "  \"Cardio\": 1,\n",
    "  \"Sinus\": 0,  # Note API ECG encoding is backwards currenly! See Issue #46\n",
    "  \"CT_performed\": 1,\n",
    "  \"Indication\": 0,\n",
    "  \"Malignancy\": 0,\n",
    "  \"Soiling\": 1,\n",
    "\n",
    "}"
   ]
  },
  {
   "cell_type": "code",
   "execution_count": 41,
   "metadata": {},
   "outputs": [
    {
     "name": "stdout",
     "output_type": "stream",
     "text": [
      "200\n"
     ]
    }
   ],
   "source": [
    "result = requests.post(\"https://laparotomy-risk.com/predict\", data=json.dumps(patient))\n",
    "api_pred_imp = result.json()[\"Result\"]\n",
    "api_pred_imp = np.array(api_pred_imp)\n",
    "print(result.status_code)"
   ]
  },
  {
   "cell_type": "code",
   "execution_count": 42,
   "metadata": {},
   "outputs": [],
   "source": [
    "patient[\"Lactate\"] = 3.2\n",
    "patient[\"Albumin\"] = 25"
   ]
  },
  {
   "cell_type": "code",
   "execution_count": 43,
   "metadata": {},
   "outputs": [
    {
     "name": "stdout",
     "output_type": "stream",
     "text": [
      "200\n"
     ]
    }
   ],
   "source": [
    "result = requests.post(\"https://laparotomy-risk.com/predict\", data=json.dumps(patient))\n",
    "api_pred_noimp = result.json()[\"Result\"]\n",
    "api_pred_noimp = np.array(api_pred_noimp)\n",
    "print(result.status_code)"
   ]
  },
  {
   "cell_type": "markdown",
   "metadata": {},
   "source": [
    "## Get imputed lactate and albumin"
   ]
  },
  {
   "cell_type": "code",
   "execution_count": 44,
   "metadata": {},
   "outputs": [],
   "source": [
    "features = study_export['mortality']['input_data']['describe'].iloc[5:6].reset_index(drop=True)"
   ]
  },
  {
   "cell_type": "code",
   "execution_count": 45,
   "metadata": {},
   "outputs": [
    {
     "data": {
      "text/html": [
       "<div>\n",
       "<style scoped>\n",
       "    .dataframe tbody tr th:only-of-type {\n",
       "        vertical-align: middle;\n",
       "    }\n",
       "\n",
       "    .dataframe tbody tr th {\n",
       "        vertical-align: top;\n",
       "    }\n",
       "\n",
       "    .dataframe thead th {\n",
       "        text-align: right;\n",
       "    }\n",
       "</style>\n",
       "<table border=\"1\" class=\"dataframe\">\n",
       "  <thead>\n",
       "    <tr style=\"text-align: right;\">\n",
       "      <th></th>\n",
       "      <th>S02PreOpCTPerformed</th>\n",
       "      <th>S03ECG</th>\n",
       "      <th>S01AgeOnArrival</th>\n",
       "      <th>S03SerumCreatinine</th>\n",
       "      <th>S03Sodium</th>\n",
       "      <th>S03Potassium</th>\n",
       "      <th>S03Urea</th>\n",
       "      <th>S03WhiteCellCount</th>\n",
       "      <th>S03Pulse</th>\n",
       "      <th>S03SystolicBloodPressure</th>\n",
       "      <th>...</th>\n",
       "      <th>S03ASAScore</th>\n",
       "      <th>S03CardiacSigns</th>\n",
       "      <th>S03RespiratorySigns</th>\n",
       "      <th>S03DiagnosedMalignancy</th>\n",
       "      <th>S03Pred_Peritsoil</th>\n",
       "      <th>Indication</th>\n",
       "      <th>S03PreOpLowestAlbumin</th>\n",
       "      <th>S03PreOpLowestAlbumin_missing</th>\n",
       "      <th>S03PreOpArterialBloodLactate</th>\n",
       "      <th>S03PreOpArterialBloodLactate_missing</th>\n",
       "    </tr>\n",
       "  </thead>\n",
       "  <tbody>\n",
       "    <tr>\n",
       "      <th>0</th>\n",
       "      <td>1.0</td>\n",
       "      <td>0.0</td>\n",
       "      <td>67.0</td>\n",
       "      <td>76.0</td>\n",
       "      <td>137.0</td>\n",
       "      <td>4.1</td>\n",
       "      <td>6.2</td>\n",
       "      <td>11.1</td>\n",
       "      <td>90.0</td>\n",
       "      <td>125.0</td>\n",
       "      <td>...</td>\n",
       "      <td>2.0</td>\n",
       "      <td>0.0</td>\n",
       "      <td>0.0</td>\n",
       "      <td>0.0</td>\n",
       "      <td>1.0</td>\n",
       "      <td>2.0</td>\n",
       "      <td>35.0</td>\n",
       "      <td>1.0</td>\n",
       "      <td>1.4</td>\n",
       "      <td>0.0</td>\n",
       "    </tr>\n",
       "  </tbody>\n",
       "</table>\n",
       "<p>1 rows × 21 columns</p>\n",
       "</div>"
      ],
      "text/plain": [
       "   S02PreOpCTPerformed  S03ECG  S01AgeOnArrival  S03SerumCreatinine  \\\n",
       "0                  1.0     0.0             67.0                76.0   \n",
       "\n",
       "   S03Sodium  S03Potassium  S03Urea  S03WhiteCellCount  S03Pulse  \\\n",
       "0      137.0           4.1      6.2               11.1      90.0   \n",
       "\n",
       "   S03SystolicBloodPressure  ...  S03ASAScore  S03CardiacSigns  \\\n",
       "0                     125.0  ...          2.0              0.0   \n",
       "\n",
       "   S03RespiratorySigns  S03DiagnosedMalignancy  S03Pred_Peritsoil  Indication  \\\n",
       "0                  0.0                     0.0                1.0         2.0   \n",
       "\n",
       "   S03PreOpLowestAlbumin  S03PreOpLowestAlbumin_missing  \\\n",
       "0                   35.0                            1.0   \n",
       "\n",
       "   S03PreOpArterialBloodLactate  S03PreOpArterialBloodLactate_missing  \n",
       "0                           1.4                                   0.0  \n",
       "\n",
       "[1 rows x 21 columns]"
      ]
     },
     "execution_count": 45,
     "metadata": {},
     "output_type": "execute_result"
    }
   ],
   "source": [
    "features"
   ]
  },
  {
   "cell_type": "code",
   "execution_count": 46,
   "metadata": {},
   "outputs": [],
   "source": [
    "var_map = {\n",
    "    \"Age\": \"S01AgeOnArrival\",\n",
    "    \"ASA\": \"S03ASAScore\",\n",
    "    \"HR\": \"S03Pulse\",\n",
    "    \"SBP\": \"S03SystolicBloodPressure\",\n",
    "    \"WCC\": \"S03WhiteCellCount\",\n",
    "    \"Na\": \"S03Sodium\",\n",
    "    \"K\": \"S03Potassium\",\n",
    "    \"Urea\": \"S03Urea\",\n",
    "    \"Creat\": \"S03SerumCreatinine\",\n",
    "    \"GCS\": 'S03GlasgowComaScore',\n",
    "    \"Resp\": 'S03RespiratorySigns',\n",
    "    \"Cardio\": 'S03CardiacSigns',\n",
    "    \"Sinus\": \"S03ECG\",\n",
    "    \"CT_performed\": \"S02PreOpCTPerformed\",\n",
    "    \"Indication\": \"Indication\",\n",
    "    \"Malignancy\": 'S03DiagnosedMalignancy',\n",
    "    \"Soiling\": 'S03Pred_Peritsoil',\n",
    "    \"Lactate\": 'S03PreOpArterialBloodLactate',\n",
    "    \"Albumin\": 'S03PreOpLowestAlbumin'\n",
    "}"
   ]
  },
  {
   "cell_type": "code",
   "execution_count": 47,
   "metadata": {},
   "outputs": [],
   "source": [
    "direct_patient = {}\n",
    "\n",
    "for api_name, value in patient.items():\n",
    "    direct_patient[var_map[api_name]] = value"
   ]
  },
  {
   "cell_type": "code",
   "execution_count": 48,
   "metadata": {},
   "outputs": [],
   "source": [
    "for name, value in direct_patient.items():\n",
    "    features.loc[0, name] = value"
   ]
  },
  {
   "cell_type": "code",
   "execution_count": 49,
   "metadata": {},
   "outputs": [
    {
     "data": {
      "text/plain": [
       "Index(['S02PreOpCTPerformed', 'S03ECG', 'S01AgeOnArrival',\n",
       "       'S03SerumCreatinine', 'S03Sodium', 'S03Potassium', 'S03Urea',\n",
       "       'S03WhiteCellCount', 'S03Pulse', 'S03SystolicBloodPressure',\n",
       "       'S03GlasgowComaScore', 'S03ASAScore', 'S03CardiacSigns',\n",
       "       'S03RespiratorySigns', 'S03DiagnosedMalignancy', 'S03Pred_Peritsoil',\n",
       "       'Indication'],\n",
       "      dtype='object')"
      ]
     },
     "execution_count": 49,
     "metadata": {},
     "output_type": "execute_result"
    }
   ],
   "source": [
    "study_export['mortality']['input_data']['describe'].loc['50%'].index[:17]"
   ]
  },
  {
   "cell_type": "markdown",
   "metadata": {},
   "source": [
    "Check order of common features is the same between mortality and imputation models:"
   ]
  },
  {
   "cell_type": "code",
   "execution_count": 50,
   "metadata": {},
   "outputs": [],
   "source": [
    "assert (\n",
    "    study_export['lactate']['input_data']['describe'].loc['50%'].index ==\n",
    "    study_export['albumin']['input_data']['describe'].loc['50%'].index\n",
    ").all()"
   ]
  },
  {
   "cell_type": "code",
   "execution_count": 51,
   "metadata": {},
   "outputs": [],
   "source": [
    "assert (\n",
    "    study_export['lactate']['input_data']['describe'].loc['50%'].index ==\n",
    "    study_export['mortality']['input_data']['describe'].loc['50%'].index[:17]\n",
    ").all()"
   ]
  },
  {
   "cell_type": "code",
   "execution_count": 52,
   "metadata": {},
   "outputs": [],
   "source": [
    "lac_imp = impute(\n",
    "    features=features.iloc[:, :17],\n",
    "    n_samples=10000,\n",
    "    model=LACTATE_GAM,\n",
    "    transformer=LACTATE_TRANSFORMER,\n",
    "    random_seed=RANDOM_SEED\n",
    ")"
   ]
  },
  {
   "cell_type": "code",
   "execution_count": 73,
   "metadata": {},
   "outputs": [],
   "source": [
    "hist_args = {'alpha': 0.5, 'density': True, 'bins': 20}"
   ]
  },
  {
   "cell_type": "code",
   "execution_count": 74,
   "metadata": {},
   "outputs": [
    {
     "data": {
      "image/png": "[encoded data removed]",
      "text/plain": [
       "<Figure size 432x288 with 1 Axes>"
      ]
     },
     "metadata": {
      "needs_background": "light"
     },
     "output_type": "display_data"
    }
   ],
   "source": [
    "f, ax = plt.subplots()\n",
    "ax.hist(lac_imp, **hist_args)\n",
    "plt.show()"
   ]
  },
  {
   "cell_type": "code",
   "execution_count": 75,
   "metadata": {},
   "outputs": [],
   "source": [
    "alb_imp = impute(\n",
    "    features=features.iloc[:, :17],\n",
    "    n_samples=10000,\n",
    "    model=ALBUMIN_GAM,\n",
    "    transformer=ALBUMIN_TRANSFORMER,\n",
    "    random_seed=RANDOM_SEED\n",
    ")"
   ]
  },
  {
   "cell_type": "code",
   "execution_count": 76,
   "metadata": {},
   "outputs": [
    {
     "data": {
      "image/png": "[encoded data removed]",
      "text/plain": [
       "<Figure size 432x288 with 1 Axes>"
      ]
     },
     "metadata": {
      "needs_background": "light"
     },
     "output_type": "display_data"
    }
   ],
   "source": [
    "f, ax = plt.subplots()\n",
    "ax.hist(alb_imp, **hist_args)\n",
    "plt.show()"
   ]
  },
  {
   "cell_type": "markdown",
   "metadata": {},
   "source": [
    "## Make plot"
   ]
  },
  {
   "cell_type": "code",
   "execution_count": 77,
   "metadata": {},
   "outputs": [
    {
     "data": {
      "image/png": "[encoded data removed]",
      "text/plain": [
       "<Figure size 432x288 with 3 Axes>"
      ]
     },
     "metadata": {
      "needs_background": "light"
     },
     "output_type": "display_data"
    }
   ],
   "source": [
    "kde_bandwidths = (0.012, 0.004)\n",
    "labels = (\n",
    "    'Novel model (imputed albumin & lactate)',\n",
    "    'Novel model (known albumin & lactate)'\n",
    ")\n",
    "\n",
    "\n",
    "fig = plt.figure(constrained_layout=True)\n",
    "spec = gridspec.GridSpec(ncols=2, nrows=2, figure=fig)\n",
    "\n",
    "\n",
    "ax0 = fig.add_subplot(spec[0, 0])\n",
    "ax0.hist(alb_imp, **hist_args)\n",
    "ax0.axes.yaxis.set_visible(False)\n",
    "ax0.set(xlabel='Imputed albumin (g L$^{-1}$)')\n",
    "\n",
    "\n",
    "ax1 = fig.add_subplot(spec[0, 1])\n",
    "ax1.hist(lac_imp, **hist_args)\n",
    "ax1.axes.yaxis.set_visible(False)\n",
    "ax1.set(xlabel='Imputed lactate (mmol L$^{-1}$)')\n",
    "\n",
    "\n",
    "ax2 = fig.add_subplot(spec[1, :])\n",
    "ax2.axvline(0.044, c='k', ls=':', label='NELA Calculator')\n",
    "for i, prediction in enumerate((api_pred_imp, api_pred_noimp)):\n",
    "    grid, pdf = _kde_linear(\n",
    "        prediction,\n",
    "        bw=kde_bandwidths[i],\n",
    "        bound_correction=False,\n",
    "        extend=True,\n",
    "        extend_fct=1.0,\n",
    "        adaptive=True\n",
    "    )\n",
    "    ax2.fill_between(grid, pdf, alpha=0.4, label=labels[i])\n",
    "ax2.set(\n",
    "    xlim=(0, 0.2),\n",
    "    # xlim=(0, 1),\n",
    "    xlabel='Predicted risk of death',\n",
    "    ylabel='Probability density'\n",
    ")\n",
    "ax2.set_ylim(bottom=0)\n",
    "ax2.axes.yaxis.set_visible(False)\n",
    "ax2.legend()\n",
    "\n",
    "\n",
    "plt.show()"
   ]
  },
  {
   "cell_type": "code",
   "execution_count": 120,
   "metadata": {},
   "outputs": [],
   "source": [
    "lap_risk_outputs_dir = os.path.join(\n",
    "    os.pardir,\n",
    "    os.pardir,\n",
    "    os.pardir,\n",
    "    'PycharmProjects',\n",
    "    'lap-risk-outputs',\n",
    "    'figures'\n",
    ")"
   ]
  },
  {
   "cell_type": "code",
   "execution_count": 122,
   "metadata": {},
   "outputs": [
    {
     "data": {
      "image/png": "[encoded data removed]",
      "text/plain": [
       "<Figure size 432x316.8 with 3 Axes>"
      ]
     },
     "metadata": {
      "needs_background": "light"
     },
     "output_type": "display_data"
    }
   ],
   "source": [
    "kde_bandwidths = np.array([0.012, 0.004]) * 100\n",
    "labels = (\n",
    "    'Novel model (imputed albumin & lactate)',\n",
    "    'Novel model (known albumin & lactate)'\n",
    ")\n",
    "\n",
    "\n",
    "fig = plt.figure(figsize=(6, 4.4))\n",
    "spec = gridspec.GridSpec(ncols=2, nrows=2, figure=fig)\n",
    "\n",
    "\n",
    "ax0 = fig.add_subplot(spec[0, 0])\n",
    "grid, pdf = _kde_linear(\n",
    "    alb_imp,\n",
    "    bw=1.5,\n",
    "    bound_correction=False,\n",
    "    extend=True,\n",
    "    extend_fct=1.0,\n",
    "    adaptive=True\n",
    ")\n",
    "ax0.fill_between(grid, pdf, alpha=0.4)\n",
    "ax0.axes.yaxis.set_visible(False)\n",
    "ax0.set(xlabel='Imputed albumin (g L$^{-1}$)', xlim=(0, 70))\n",
    "ax0.set_ylim(bottom=0)\n",
    "\n",
    "\n",
    "ax1 = fig.add_subplot(spec[0, 1])\n",
    "grid, pdf = _kde_linear(\n",
    "    lac_imp,\n",
    "    bw=0.2,\n",
    "    bound_correction=False,\n",
    "    extend=True,\n",
    "    extend_fct=1.0,\n",
    "    adaptive=True\n",
    ")\n",
    "ax1.fill_between(grid, pdf, alpha=0.4)\n",
    "ax1.axes.yaxis.set_visible(False)\n",
    "ax1.set(xlabel='Imputed lactate (mmol L$^{-1}$)', xlim=(0, 10))\n",
    "ax1.set_ylim(bottom=0)\n",
    "\n",
    "\n",
    "ax2 = fig.add_subplot(spec[1, :])\n",
    "ax2.axvline(0.044 * 100, c='k', ls=':', label='NELA Calculator')\n",
    "for i, prediction in enumerate((api_pred_imp, api_pred_noimp)):\n",
    "    grid, pdf = _kde_linear(\n",
    "        prediction * 100,\n",
    "        bw=kde_bandwidths[i],\n",
    "        bound_correction=False,\n",
    "        extend=True,\n",
    "        extend_fct=1.0,\n",
    "        adaptive=True\n",
    "    )\n",
    "    ax2.fill_between(grid, pdf, alpha=0.4, label=labels[i])\n",
    "ax2.set(\n",
    "    xlim=(0, 20),\n",
    "    # xlim=(0, 1),\n",
    "    xlabel='Predicted risk of death',\n",
    "    ylabel='Probability density'\n",
    ")\n",
    "ax2.set_ylim(bottom=0)\n",
    "ax2.axes.yaxis.set_visible(False)\n",
    "ax2.xaxis.set_major_formatter(mtick.PercentFormatter())\n",
    "ax2.legend()\n",
    "\n",
    "fig.tight_layout()\n",
    "fig.savefig(\n",
    "    os.path.join(lap_risk_outputs_dir, f\"case_study.pdf\"),\n",
    "    format='pdf',\n",
    "    bbox_inches=\"tight\",\n",
    ")\n",
    "\n",
    "plt.show()"
   ]
  },
  {
   "cell_type": "code",
   "execution_count": 92,
   "metadata": {},
   "outputs": [
    {
     "data": {
      "image/png": "[encoded data removed]",
      "text/plain": [
       "<Figure size 432x288 with 1 Axes>"
      ]
     },
     "metadata": {
      "needs_background": "light"
     },
     "output_type": "display_data"
    }
   ],
   "source": [
    "kde_bandwidths = (0.012, 0.004)\n",
    "labels = (\n",
    "    'Novel model (imputation)',\n",
    "    'Novel model (known values)'\n",
    ")\n",
    "\n",
    "f, ax = plt.subplots()\n",
    "ax.axvline(0.044, c='k', ls=':', label='NELA Calculator')\n",
    "for i, prediction in enumerate((api_pred_imp, api_pred_noimp)):\n",
    "    grid, pdf = _kde_linear(\n",
    "        prediction,\n",
    "        bw=kde_bandwidths[i],\n",
    "        bound_correction=False,\n",
    "        extend=True,\n",
    "        extend_fct=1.0,\n",
    "        adaptive=True\n",
    "    )\n",
    "    ax.fill_between(grid, pdf, alpha=0.4, label=labels[i])\n",
    "ax.set(\n",
    "    xlim=(0, 0.15),\n",
    "    # xlim=(0, 1),\n",
    "    xlabel='Predicted risk of death',\n",
    "    ylabel='Probability density'\n",
    ")\n",
    "ax.set_ylim(bottom=0)\n",
    "ax.legend()\n",
    "plt.show()"
   ]
  }
 ],
 "metadata": {
  "kernelspec": {
   "display_name": "Laparotomy-Predictions",
   "language": "python",
   "name": "laparotomy-predictions"
  },
  "language_info": {
   "codemirror_mode": {
    "name": "ipython",
    "version": 3
   },
   "file_extension": ".py",
   "mimetype": "text/x-python",
   "name": "python",
   "nbconvert_exporter": "python",
   "pygments_lexer": "ipython3",
   "version": "3.8.6"
  }
 },
 "nbformat": 4,
 "nbformat_minor": 4
}
